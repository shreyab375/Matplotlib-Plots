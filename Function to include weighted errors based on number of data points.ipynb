{
 "cells": [
  {
   "cell_type": "code",
   "execution_count": 45,
   "id": "behavioral-saver",
   "metadata": {},
   "outputs": [],
   "source": [
    "import numpy as np\n",
    "import math\n",
    "import pandas as pd\n",
    "import matplotlib.pyplot as plt\n",
    "from scipy.optimize import curve_fit\n",
    "from scipy import stats\n",
    "import numpy as np\n",
    "import warnings\n",
    "warnings.filterwarnings(\"ignore\")"
   ]
  },
  {
   "cell_type": "code",
   "execution_count": 46,
   "id": "every-senator",
   "metadata": {},
   "outputs": [],
   "source": [
    "def weighted_avg_and_std(avg, values, weights):\n",
    "    \"\"\"\n",
    "    Return the weighted average and standard deviation.\n",
    "\n",
    "    values, weights -- Numpy ndarrays with the same shape.\n",
    "    \"\"\"\n",
    "    variance = np.average((values - avg) ** 2, weights=weights)\n",
    "    return math.sqrt(variance)\n"
   ]
  },
  {
   "cell_type": "code",
   "execution_count": 79,
   "id": "cooked-official",
   "metadata": {},
   "outputs": [],
   "source": [
    "def calculate_weighted_average_std(df, a_bins):\n",
    "    x = df.col1 #assuming the predictor variable is named as col1\n",
    "    y = df.col2 #assuming the target variable is named as col2\n",
    "    \n",
    "    std_x = [] #list to store the weighted standard deviations for x-variable\n",
    "    i=0\n",
    "    for i in range(len(a_bins)-1): #iterate over bins\n",
    "        low = df['col1'].values>=a_bins[i] \n",
    "        high = df['col1'].values<a_bins[i+1]\n",
    "        b = df.loc[(low) & (high)] #floating dataframe to select the datavalues between the given range\n",
    "        ave = b['col1'].mean() #average of the bin\n",
    "        c = b.groupby('col2').count() #defining weight as number of data point of y present in the bin\n",
    "        c = c.reset_index()\n",
    "        if b.empty: #if b in empty append 0\n",
    "            zero=0\n",
    "            std_x.append(zero)\n",
    "        else:\n",
    "            s = weighted_avg_and_std(ave,c.col2,c.col1)\n",
    "            std_x.append(s)\n",
    "            \n",
    "\n",
    "    std_y = [] #list to store the weighted standard deviations for y-variable\n",
    "    i=0\n",
    "    for i in range(len(a_bins)-1):\n",
    "        low = df['col2'].values >= a_bins[i]\n",
    "        high = df['col2'].values < a_bins[i+1]\n",
    "        b = df.loc[(low) & (high)]\n",
    "        ave = b['col2'].mean()\n",
    "        c = b.groupby('col1').count()\n",
    "        c = c.reset_index()\n",
    "        if b.empty:\n",
    "            zero = 0\n",
    "            std_y.append(zero)\n",
    "        else:\n",
    "            s1 = weighted_avg_and_std(ave, c.col1, c.col2)\n",
    "            std_y.append(s1)\n",
    "    #find the mean points for plotting\n",
    "    nbins = a_bins\n",
    "    n, _ = np.histogram(x, bins=nbins)\n",
    "    sy, _ = np.histogram(x, bins=nbins, weights=y)\n",
    "    mean = sy / n\n",
    "    \n",
    "    x_pos = (_[1:] + _[:-1]) / 2\n",
    "    plt.plot(x, y, 'bo')\n",
    "    plt.errorbar((_[1:] + _[:-1]) / 2, mean, yerr=std_x, xerr=std_y, fmt='o-', color='red')\n",
    "    plt.show()\n",
    "\n",
    "# Example usage:\n",
    "# a_bins = [0, 10, 20, 30, 40, 50, 60, 70, 80, 90, 100, 110]\n",
    "# calculate_weighted_average_std(df, a_bins)\n"
   ]
  },
  {
   "cell_type": "code",
   "execution_count": 80,
   "id": "protecting-india",
   "metadata": {},
   "outputs": [],
   "source": [
    "df = pd.read_csv(r'C:\\Users\\ShreyaB\\Documents\\Mitteilungen\\data\\weighted_average_example.csv')"
   ]
  },
  {
   "cell_type": "code",
   "execution_count": 81,
   "id": "common-engagement",
   "metadata": {},
   "outputs": [
    {
     "data": {
      "text/html": [
       "<div>\n",
       "<style scoped>\n",
       "    .dataframe tbody tr th:only-of-type {\n",
       "        vertical-align: middle;\n",
       "    }\n",
       "\n",
       "    .dataframe tbody tr th {\n",
       "        vertical-align: top;\n",
       "    }\n",
       "\n",
       "    .dataframe thead th {\n",
       "        text-align: right;\n",
       "    }\n",
       "</style>\n",
       "<table border=\"1\" class=\"dataframe\">\n",
       "  <thead>\n",
       "    <tr style=\"text-align: right;\">\n",
       "      <th></th>\n",
       "      <th>Date</th>\n",
       "      <th>col1</th>\n",
       "      <th>col2</th>\n",
       "    </tr>\n",
       "  </thead>\n",
       "  <tbody>\n",
       "    <tr>\n",
       "      <th>0</th>\n",
       "      <td>1854-02-04</td>\n",
       "      <td>3</td>\n",
       "      <td>3</td>\n",
       "    </tr>\n",
       "    <tr>\n",
       "      <th>1</th>\n",
       "      <td>1854-03-17</td>\n",
       "      <td>2</td>\n",
       "      <td>2</td>\n",
       "    </tr>\n",
       "    <tr>\n",
       "      <th>2</th>\n",
       "      <td>1854-09-12</td>\n",
       "      <td>3</td>\n",
       "      <td>3</td>\n",
       "    </tr>\n",
       "    <tr>\n",
       "      <th>3</th>\n",
       "      <td>1855-10-20</td>\n",
       "      <td>2</td>\n",
       "      <td>2</td>\n",
       "    </tr>\n",
       "    <tr>\n",
       "      <th>4</th>\n",
       "      <td>1857-01-14</td>\n",
       "      <td>3</td>\n",
       "      <td>3</td>\n",
       "    </tr>\n",
       "  </tbody>\n",
       "</table>\n",
       "</div>"
      ],
      "text/plain": [
       "         Date  col1  col2\n",
       "0  1854-02-04     3     3\n",
       "1  1854-03-17     2     2\n",
       "2  1854-09-12     3     3\n",
       "3  1855-10-20     2     2\n",
       "4  1857-01-14     3     3"
      ]
     },
     "execution_count": 81,
     "metadata": {},
     "output_type": "execute_result"
    }
   ],
   "source": [
    "df.head()"
   ]
  },
  {
   "cell_type": "code",
   "execution_count": 82,
   "id": "rural-night",
   "metadata": {},
   "outputs": [
    {
     "data": {
      "image/png": "[encoded data removed]",
      "text/plain": [
       "<Figure size 432x288 with 1 Axes>"
      ]
     },
     "metadata": {
      "needs_background": "light"
     },
     "output_type": "display_data"
    }
   ],
   "source": [
    "a_bins = [1, 2, 3.,  4.,  5.,6,7,8,9,10,11,12,13]\n",
    "calculate_weighted_average_std(df, a_bins)\n"
   ]
  },
  {
   "cell_type": "code",
   "execution_count": null,
   "id": "developmental-cookbook",
   "metadata": {},
   "outputs": [],
   "source": []
  },
  {
   "cell_type": "code",
   "execution_count": null,
   "id": "sexual-banana",
   "metadata": {},
   "outputs": [],
   "source": []
  }
 ],
 "metadata": {
  "kernelspec": {
   "display_name": "Python3.6Test",
   "language": "python",
   "name": "python3.6test"
  },
  "language_info": {
   "codemirror_mode": {
    "name": "ipython",
    "version": 3
   },
   "file_extension": ".py",
   "mimetype": "text/x-python",
   "name": "python",
   "nbconvert_exporter": "python",
   "pygments_lexer": "ipython3",
   "version": "3.6.10"
  }
 },
 "nbformat": 4,
 "nbformat_minor": 5
}
