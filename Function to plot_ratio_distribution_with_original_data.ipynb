{
 "cells": [
  {
   "cell_type": "markdown",
   "id": "crude-thunder",
   "metadata": {},
   "source": [
    "This plot comprises three panels. The central panel visualizes the distribution of ratios (col1/col2) over time. The right panel displays the distribution of these ratios, emphasizing the mode. Lastly, the lower panel presents the original data."
   ]
  },
  {
   "cell_type": "code",
   "execution_count": 1,
   "id": "advisory-andorra",
   "metadata": {},
   "outputs": [],
   "source": [
    "import pandas as pd\n",
    "import numpy as np\n",
    "import matplotlib.pyplot as plt\n",
    "from matplotlib.gridspec import GridSpec\n",
    "from mpl_toolkits.axes_grid1 import make_axes_locatable\n",
    "from matplotlib import transforms\n",
    "from matplotlib import pyplot\n",
    "import warnings\n",
    "warnings.filterwarnings(\"ignore\")"
   ]
  },
  {
   "cell_type": "code",
   "execution_count": 2,
   "id": "cross-parade",
   "metadata": {},
   "outputs": [],
   "source": [
    "def plot_and_process_data(df):\n",
    "    # Calculate the 'Ratio' column as the ratio of 'Sn_y' to 'WOLF'\n",
    "    df[\"Ratio\"] = df.col1 / df.col2\n",
    "\n",
    "    # Replace -inf (negative infinity) values with NaN in the 'Ratio' column\n",
    "    df['Ratio'] = df['Ratio'].replace(-np.inf, np.nan)\n",
    "\n",
    "    # Remove rows where 'Ratio' is positive infinity (inf)\n",
    "    df = df.drop(df[df.Ratio == np.inf].index)\n",
    "\n",
    "    # Sort the DataFrame by the 'Date' column\n",
    "    df = df.sort_values('Date')\n",
    "\n",
    "    # Set the figure size and DPI for the plot\n",
    "    width_in_inches = 12\n",
    "    height_in_inches = 8\n",
    "    dots_per_inch = 80\n",
    "    fig = plt.figure(figsize=(width_in_inches, height_in_inches), dpi=dots_per_inch)\n",
    "    plt.tight_layout()\n",
    "\n",
    "    # Create a 5x5 grid for the subplots\n",
    "    gs = GridSpec(5,5)\n",
    "    gs.update(wspace=0.35, hspace=0.5)\n",
    "    \n",
    "    # Add a subplot for the main plot in the top left (1:4 rows, 0:3 columns)\n",
    "    ax1 = fig.add_subplot(gs[1:4,0:3])\n",
    "\n",
    "    # Create a scatter plot of 'Date' vs. 'Ratio' with specified settings\n",
    "    ax1.scatter(df[\"Date\"], df[\"Ratio\"], alpha=1, facecolor='None', marker=',', s=10, edgecolor='blue')\n",
    "\n",
    "    # Set the y-axis label\n",
    "    ax1.set_ylabel('Ratio', fontsize=12)\n",
    "    divider = make_axes_locatable(ax1)\n",
    "    #ax1.xaxis.set_major_locator(yloc)\n",
    "    leg = plt.legend(loc=\"best\",fontsize= 8)\n",
    "    for lh in leg.legendHandles: \n",
    "        lh.set_alpha(1)\n",
    "\n",
    "    # Add a subplot for the SN data below the main plot\n",
    "    ax0 = divider.append_axes(\"bottom\", 0.6, sharex=ax1)\n",
    "\n",
    "    # Create a line plot of 'Date' vs. 'Sn_y'\n",
    "    ax0.plot(df[\"Date\"], df[\"col1\"], alpha=1, color='blue')\n",
    "\n",
    "    # Set the y-axis label for the original subplot\n",
    "    ax0.set_ylabel('col1', fontsize=12)\n",
    "\n",
    "    # Set the x-axis label for the SN subplot\n",
    "    plt.xlabel('Time (in years)', fontsize=12)\n",
    "\n",
    "    # Add a right marginal histogram for 'Ratio'\n",
    "    ax_marg_y = divider.append_axes(\"right\", 0.9, sharey=ax1)\n",
    "\n",
    "    # Create a horizontal histogram of 'Ratio' in the right marginal plot\n",
    "    n = np.linspace(0,5,num=50) #create number of bins\n",
    "    n1,x1,_=ax_marg_y.hist(df.Ratio,orientation=\"horizontal\",facecolor='k',alpha=1,bins=n,edgecolor='k')\n",
    "    base = pyplot.gca().transData\n",
    "    rot = transforms.Affine2D().rotate_deg(0)\n",
    "    plt.setp(ax1.get_xticklabels(), visible=False)\n",
    "    ax_marg_y.grid()\n",
    "    # Turn off tick labels on marginals\n",
    "    ax_marg_y.spines['top'].set_visible(False)\n",
    "    ax_marg_y.spines['right'].set_visible(False)\n",
    "    ax_marg_y.spines['left'].set_visible(False)\n",
    "    \n",
    "    # Adjust x-axis tick label rotation and other settings\n",
    "    plt.setp(ax_marg_y.get_yticklabels(), visible=False)\n",
    "    plt.subplots_adjust(hspace=.0)\n",
    "    plt.setp(ax0.get_xticklabels(), rotation=0, ha=\"center\")\n",
    "\n",
    "   \n",
    "    # Adjust spacing and layout of subplots\n",
    "    plt.subplots_adjust(hspace=0.0)\n",
    "\n",
    "    \n",
    "    \n",
    "\n",
    "    plt.gcf().subplots_adjust(bottom=0.15)\n",
    "    plt.gcf().subplots_adjust(left=0.15)"
   ]
  },
  {
   "cell_type": "code",
   "execution_count": 3,
   "id": "medium-greeting",
   "metadata": {},
   "outputs": [],
   "source": [
    "df = pd.read_csv(r'C:\\Users\\ShreyaB\\Documents\\Mitteilungen\\data\\weighted_average_example.csv')\n",
    "df.Date = pd.to_datetime(df.Date)"
   ]
  },
  {
   "cell_type": "code",
   "execution_count": 4,
   "id": "personal-lunch",
   "metadata": {},
   "outputs": [
    {
     "data": {
      "text/html": [
       "<div>\n",
       "<style scoped>\n",
       "    .dataframe tbody tr th:only-of-type {\n",
       "        vertical-align: middle;\n",
       "    }\n",
       "\n",
       "    .dataframe tbody tr th {\n",
       "        vertical-align: top;\n",
       "    }\n",
       "\n",
       "    .dataframe thead th {\n",
       "        text-align: right;\n",
       "    }\n",
       "</style>\n",
       "<table border=\"1\" class=\"dataframe\">\n",
       "  <thead>\n",
       "    <tr style=\"text-align: right;\">\n",
       "      <th></th>\n",
       "      <th>Date</th>\n",
       "      <th>col1</th>\n",
       "      <th>col2</th>\n",
       "    </tr>\n",
       "  </thead>\n",
       "  <tbody>\n",
       "    <tr>\n",
       "      <th>0</th>\n",
       "      <td>1854-02-04</td>\n",
       "      <td>3</td>\n",
       "      <td>3</td>\n",
       "    </tr>\n",
       "    <tr>\n",
       "      <th>1</th>\n",
       "      <td>1854-03-17</td>\n",
       "      <td>2</td>\n",
       "      <td>2</td>\n",
       "    </tr>\n",
       "    <tr>\n",
       "      <th>2</th>\n",
       "      <td>1854-09-12</td>\n",
       "      <td>3</td>\n",
       "      <td>3</td>\n",
       "    </tr>\n",
       "    <tr>\n",
       "      <th>3</th>\n",
       "      <td>1855-10-20</td>\n",
       "      <td>2</td>\n",
       "      <td>2</td>\n",
       "    </tr>\n",
       "    <tr>\n",
       "      <th>4</th>\n",
       "      <td>1857-01-14</td>\n",
       "      <td>3</td>\n",
       "      <td>3</td>\n",
       "    </tr>\n",
       "  </tbody>\n",
       "</table>\n",
       "</div>"
      ],
      "text/plain": [
       "        Date  col1  col2\n",
       "0 1854-02-04     3     3\n",
       "1 1854-03-17     2     2\n",
       "2 1854-09-12     3     3\n",
       "3 1855-10-20     2     2\n",
       "4 1857-01-14     3     3"
      ]
     },
     "execution_count": 4,
     "metadata": {},
     "output_type": "execute_result"
    }
   ],
   "source": [
    "df.head()"
   ]
  },
  {
   "cell_type": "code",
   "execution_count": 5,
   "id": "earned-outreach",
   "metadata": {},
   "outputs": [
    {
     "name": "stderr",
     "output_type": "stream",
     "text": [
      "No handles with labels found to put in legend.\n"
     ]
    },
    {
     "data": {
      "image/png": "[encoded data removed]",
      "text/plain": [
       "<Figure size 960x640 with 3 Axes>"
      ]
     },
     "metadata": {
      "needs_background": "light"
     },
     "output_type": "display_data"
    }
   ],
   "source": [
    "plot_and_process_data(df)"
   ]
  },
  {
   "cell_type": "code",
   "execution_count": null,
   "id": "sixth-oriental",
   "metadata": {},
   "outputs": [],
   "source": []
  }
 ],
 "metadata": {
  "kernelspec": {
   "display_name": "Python3.6Test",
   "language": "python",
   "name": "python3.6test"
  },
  "language_info": {
   "codemirror_mode": {
    "name": "ipython",
    "version": 3
   },
   "file_extension": ".py",
   "mimetype": "text/x-python",
   "name": "python",
   "nbconvert_exporter": "python",
   "pygments_lexer": "ipython3",
   "version": "3.6.10"
  }
 },
 "nbformat": 4,
 "nbformat_minor": 5
}
