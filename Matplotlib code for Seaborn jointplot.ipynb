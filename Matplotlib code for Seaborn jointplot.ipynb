{
 "cells": [
  {
   "cell_type": "markdown",
   "id": "desperate-lawyer",
   "metadata": {},
   "source": [
    "This Matplotlib code is similar to a Seaborn jointplot but offers more versatility. \n",
    "Unlike Seaborn's jointplot for regression and distribution, which only provides a regression line with an intercept \n",
    "and R-squared values, this plot can be fully customized to suit various requirements."
   ]
  },
  {
   "cell_type": "code",
   "execution_count": 1,
   "id": "therapeutic-hudson",
   "metadata": {},
   "outputs": [],
   "source": [
    "import math\n",
    "from matplotlib.dates import MonthLocator, YearLocator\n",
    "from matplotlib.gridspec import GridSpec\n",
    "import numpy as np\n",
    "import matplotlib.pyplot as plt\n",
    "from mpl_toolkits.axes_grid1 import make_axes_locatable\n",
    "import matplotlib.transforms as transforms\n",
    "import pandas as pd\n",
    "from scipy.optimize import curve_fit\n",
    "from scipy import stats\n",
    "from scipy.odr import Model, RealData, ODR\n",
    "import warnings\n",
    "warnings.filterwarnings(\"ignore\")"
   ]
  },
  {
   "cell_type": "code",
   "execution_count": 2,
   "id": "engaged-beauty",
   "metadata": {},
   "outputs": [],
   "source": [
    "def weighted_avg_and_std(avg, values, weights):\n",
    "    \"\"\"\n",
    "    Return the weighted average and standard deviation.\n",
    "\n",
    "    values, weights -- Numpy ndarrays with the same shape.\n",
    "    \"\"\"\n",
    "    variance = np.average((values - avg) ** 2, weights=weights)\n",
    "    return math.sqrt(variance)\n"
   ]
  },
  {
   "cell_type": "code",
   "execution_count": 3,
   "id": "attractive-discharge",
   "metadata": {},
   "outputs": [],
   "source": [
    "#this function is given as a separate code in the same repository\n",
    "def calculate_weighted_average_std(df, a_bins):\n",
    "    x = df.col1 #assuming the predictor variable is named as col1\n",
    "    y = df.col2 #assuming the target variable is named as col2\n",
    "    \n",
    "    std_x = [] #list to store the weighted standard deviations for x-variable\n",
    "    i=0\n",
    "    for i in range(len(a_bins)-1): #iterate over bins\n",
    "        low = df['col1'].values>=a_bins[i] \n",
    "        high = df['col1'].values<a_bins[i+1]\n",
    "        b = df.loc[(low) & (high)] #floating dataframe to select the datavalues between the given range\n",
    "        ave = b['col1'].mean() #average of the bin\n",
    "        c = b.groupby('col2').count() #defining weight as number of data point of y present in the bin\n",
    "        c = c.reset_index()\n",
    "        if b.empty: #if b in empty append 0\n",
    "            zero=0\n",
    "            std_x.append(zero)\n",
    "        else:\n",
    "            s = weighted_avg_and_std(ave,c.col2,c.col1)\n",
    "            std_x.append(s)\n",
    "            \n",
    "\n",
    "    std_y = [] #list to store the weighted standard deviations for y-variable\n",
    "    i=0\n",
    "    for i in range(len(a_bins)-1):\n",
    "        low = df['col2'].values >= a_bins[i]\n",
    "        high = df['col2'].values < a_bins[i+1]\n",
    "        b = df.loc[(low) & (high)]\n",
    "        ave = b['col2'].mean()\n",
    "        c = b.groupby('col1').count()\n",
    "        c = c.reset_index()\n",
    "        if b.empty:\n",
    "            zero = 0\n",
    "            std_y.append(zero)\n",
    "        else:\n",
    "            s1 = weighted_avg_and_std(ave, c.col1, c.col2)\n",
    "            std_y.append(s1)\n",
    "    #find the mean points for plotting\n",
    "    nbins = a_bins\n",
    "    n, _ = np.histogram(x, bins=nbins)\n",
    "    sy, _ = np.histogram(x, bins=nbins, weights=y)\n",
    "    mean = sy / n\n",
    "    \n",
    "    x_pos = (_[1:] + _[:-1]) / 2\n",
    "    plt.plot(x, y, 'bo')\n",
    "    plt.errorbar((_[1:] + _[:-1]) / 2, mean, yerr=std_x, xerr=std_y, fmt='o-', color='red')\n",
    "    #plt.show()\n",
    "    \n",
    "    return mean, std_x, std_y, x_pos\n",
    "\n",
    "# Example usage:\n",
    "# a_bins = [0, 10, 20, 30, 40, 50, 60, 70, 80, 90, 100, 110]\n",
    "# calculate_weighted_average_std(df, a_bins)\n"
   ]
  },
  {
   "cell_type": "code",
   "execution_count": 4,
   "id": "exempt-inventory",
   "metadata": {},
   "outputs": [],
   "source": [
    "#This function is given as a separate code in the same repository\n",
    "def linear_regression(x, y, dx, dy):\n",
    "    # TLS method\n",
    "    linear_tls = Model(lambda B, a: B[0]*a)\n",
    "    data_tls = RealData(x, y, sx=dx, sy=dy)\n",
    "    odr_tls = ODR(data_tls, linear_tls, beta0=[1.0])\n",
    "    output_tls = odr_tls.run()\n",
    "    slope_tls = output_tls.beta\n",
    "    err_tls = output_tls.sd_beta\n",
    "\n",
    "    # OLS method\n",
    "    degrees_x = [1]  # list of degrees of x to use\n",
    "    matrix_x = np.stack([x**d for d in degrees_x], axis=-1)\n",
    "    slope_ols_x, _, _, _ = np.linalg.lstsq(matrix_x, y, rcond=None)\n",
    "    n_x = len(y)\n",
    "    k_x = len(slope_ols_x)\n",
    "    sigma2_x = np.sum((y - np.dot(matrix_x, slope_ols_x))**2) / (n_x - k_x)  # RMSE\n",
    "    a_x = matrix_x.T\n",
    "    C_x = sigma2_x * np.linalg.inv(np.dot(a_x, matrix_x))  # covariance matrix\n",
    "    err_ols_x = np.sqrt(np.diag(C_x))  # standard error\n",
    "\n",
    "    degrees_y = [1]  # list of degrees of y to use\n",
    "    matrix_y = np.stack([y**d for d in degrees_y], axis=-1)\n",
    "    slope_ols_y, _, _, _ = np.linalg.lstsq(matrix_y, x, rcond=None)\n",
    "    n_y = len(x)\n",
    "    k_y = len(slope_ols_y)\n",
    "    sigma2_y = np.sum((x - np.dot(matrix_y, slope_ols_y))**2) / (n_y - k_y)  # RMSE\n",
    "    a_y = matrix_y.T\n",
    "    C_y = sigma2_y * np.linalg.inv(np.dot(a_y, matrix_y))  # covariance matrix\n",
    "    err_ols_y = np.sqrt(np.diag(C_y))  # standard error\n",
    "\n",
    "    dn = 1 / (err_tls**2) + 1 / (err_ols_x**2) + 1 / (err_ols_y**2) #denominator\n",
    "    slope = (slope_tls / err_tls**2 + slope_ols_x / err_ols_x**2 + 1 / slope_ols_y / err_ols_y**2) / dn\n",
    "    error = math.sqrt((abs(slope_tls - slope) / err_tls**2 + abs(slope_ols_x - slope) / err_ols_x**2 + abs(1 / slope_ols_y - slope) / err_ols_y**2) / dn)\n",
    "\n",
    "    return slope, error\n"
   ]
  },
  {
   "cell_type": "code",
   "execution_count": 5,
   "id": "spatial-norway",
   "metadata": {},
   "outputs": [],
   "source": [
    "def plot_data(x, y, mean, std_x, std_y, a_bins, slope, error, x_pos):\n",
    "    x_pos = x_pos + 0.1 #to plot the middle position\n",
    "    x_pos = x_pos.astype(int)\n",
    "    d = x_pos\n",
    "    y1 = x_pos * slope\n",
    "    y_l = x_pos * (slope + error)\n",
    "    y_u = x_pos * (slope - error)\n",
    "    \n",
    "    #To plot the simple yearly ratios\n",
    "    df[\"Ratio\"] = df.col1/df.col2\n",
    "    df['Ratio'] = df['Ratio'].replace(-np.inf, np.nan)\n",
    "    df['Ratio'] = df['Ratio'].replace(np.inf, np.nan)\n",
    "    df1 = df.set_index('Date').resample('Y')[\"Ratio\"].mean()\n",
    "    df1= df1.reset_index()\n",
    "    df1.Date = pd.to_datetime(df1['Date'])\n",
    "    \n",
    "    #Define the Figure dimensions\n",
    "    width_in_inches = 10\n",
    "    height_in_inches = 10\n",
    "    dots_per_inch = 80\n",
    "    fig = plt.figure(figsize=(width_in_inches, height_in_inches), dpi=dots_per_inch)\n",
    "    \n",
    "    #Divide the figure into 5 panels\n",
    "    gs = GridSpec(5, 5)\n",
    "    gs.update(wspace=0.025, hspace=0.5)\n",
    "    ax_joint = fig.add_subplot(gs[1:4, 0:3])\n",
    "    ax_down = fig.add_subplot(gs[4, 0:3])\n",
    "    \n",
    "    #Middle panel\n",
    "    ax_joint.scatter(x, y, marker='o', color='green', edgecolor='lightblue', alpha=0.3, s=20)\n",
    "    ax_joint.plot(d, y1, label='Slope =' + str(np.round(slope,2)) + '+-' + str(np.round(error,2)), linestyle='--')\n",
    "    ax_joint.legend()\n",
    "    ax_joint.fill_between(d, y_u, y_l, color='lightblue', alpha=0.5)\n",
    "    ax_joint.errorbar(d, mean, yerr=std_x, xerr=std_y, fmt='o', color='black', capthick=3, elinewidth=2, capsize=3, alpha=0.5)\n",
    "    \n",
    "    #Locate axes and other details\n",
    "    divider = make_axes_locatable(ax_joint)\n",
    "    ax_joint.set_xlim(0, 13)\n",
    "    ax_joint.grid()\n",
    "    ax_joint.set_ylabel('Col2', fontsize=18)\n",
    "    \n",
    "    #set the upper and side panels\n",
    "    ax_marg_x = divider.append_axes(\"top\", 0.5, sharex=ax_joint)\n",
    "    ax_marg_y = divider.append_axes(\"right\", 0.6, sharey=ax_joint)\n",
    "    \n",
    "    #histograms: 1st line is for right panel, 2nd line is for upper panel\n",
    "    n1, x1, _ = ax_marg_y.hist(y, orientation=\"horizontal\", facecolor='lightblue', alpha=0.3, edgecolor='blue', bins=a_bins)\n",
    "    b,a,_ =ax_marg_x.hist(x,facecolor='green',alpha=0.3,edgecolor='red',bins=a_bins)\n",
    "    ax_marg_x.grid()\n",
    "    bin_centers = 0.5 * (a[1:] + a[:-1])\n",
    "    ax_marg_x.plot(bin_centers, b, color='blue') # locate the bin centres to plot a smooth line\n",
    "    \n",
    "    #make the borders visisble or invisisble for upper panel\n",
    "    ax_marg_x.spines['top'].set_visible(False)\n",
    "    ax_marg_x.spines['right'].set_visible(False)\n",
    "    ax_marg_x.spines['left'].set_visible(False)\n",
    "    \n",
    "    #make the borders visible or invisible for right panel\n",
    "    bin_centers1 = 0.5 * (x1[1:] + x1[:-1])\n",
    "    base = plt.gca().transData\n",
    "    ax_marg_y.plot(n1, bin_centers1, color='green')\n",
    "    ax_marg_y.grid()\n",
    "    ax_marg_y.spines['top'].set_visible(False)\n",
    "    ax_marg_y.spines['right'].set_visible(False)\n",
    "    ax_marg_y.spines['left'].set_visible(False)\n",
    "\n",
    "    plt.setp(ax_marg_x.get_xticklabels(), visible=False)\n",
    "    plt.setp(ax_marg_y.get_yticklabels(), visible=False)\n",
    "    \n",
    "    #The lower panel\n",
    "    ax_down.plot(df1['Date'], df1['Ratio'], color='black')\n",
    "    ax_down.set_xlabel('Col1', fontsize=18)\n",
    "    ax_down.locator_params(axis='y')\n",
    "    ax_down.spines['top'].set_visible(False)\n",
    "    ax_down.spines['right'].set_visible(False)\n",
    "    ax_down.spines['left'].set_visible(False)\n",
    "    ax_down.grid()\n",
    "    plt.gcf().subplots_adjust(bottom=0.35)\n",
    "    plt.show()\n"
   ]
  },
  {
   "cell_type": "code",
   "execution_count": 6,
   "id": "dense-sodium",
   "metadata": {},
   "outputs": [],
   "source": [
    "df = pd.read_csv(r'C:\\Users\\ShreyaB\\Documents\\Mitteilungen\\data\\weighted_average_example.csv')\n",
    "df.Date = pd.to_datetime(df.Date)"
   ]
  },
  {
   "cell_type": "code",
   "execution_count": 7,
   "id": "fatal-blind",
   "metadata": {},
   "outputs": [
    {
     "data": {
      "text/html": [
       "<div>\n",
       "<style scoped>\n",
       "    .dataframe tbody tr th:only-of-type {\n",
       "        vertical-align: middle;\n",
       "    }\n",
       "\n",
       "    .dataframe tbody tr th {\n",
       "        vertical-align: top;\n",
       "    }\n",
       "\n",
       "    .dataframe thead th {\n",
       "        text-align: right;\n",
       "    }\n",
       "</style>\n",
       "<table border=\"1\" class=\"dataframe\">\n",
       "  <thead>\n",
       "    <tr style=\"text-align: right;\">\n",
       "      <th></th>\n",
       "      <th>Date</th>\n",
       "      <th>col1</th>\n",
       "      <th>col2</th>\n",
       "    </tr>\n",
       "  </thead>\n",
       "  <tbody>\n",
       "    <tr>\n",
       "      <th>0</th>\n",
       "      <td>1854-02-04</td>\n",
       "      <td>3</td>\n",
       "      <td>3</td>\n",
       "    </tr>\n",
       "    <tr>\n",
       "      <th>1</th>\n",
       "      <td>1854-03-17</td>\n",
       "      <td>2</td>\n",
       "      <td>2</td>\n",
       "    </tr>\n",
       "    <tr>\n",
       "      <th>2</th>\n",
       "      <td>1854-09-12</td>\n",
       "      <td>3</td>\n",
       "      <td>3</td>\n",
       "    </tr>\n",
       "    <tr>\n",
       "      <th>3</th>\n",
       "      <td>1855-10-20</td>\n",
       "      <td>2</td>\n",
       "      <td>2</td>\n",
       "    </tr>\n",
       "    <tr>\n",
       "      <th>4</th>\n",
       "      <td>1857-01-14</td>\n",
       "      <td>3</td>\n",
       "      <td>3</td>\n",
       "    </tr>\n",
       "  </tbody>\n",
       "</table>\n",
       "</div>"
      ],
      "text/plain": [
       "        Date  col1  col2\n",
       "0 1854-02-04     3     3\n",
       "1 1854-03-17     2     2\n",
       "2 1854-09-12     3     3\n",
       "3 1855-10-20     2     2\n",
       "4 1857-01-14     3     3"
      ]
     },
     "execution_count": 7,
     "metadata": {},
     "output_type": "execute_result"
    }
   ],
   "source": [
    "df.head()"
   ]
  },
  {
   "cell_type": "code",
   "execution_count": 8,
   "id": "small-purple",
   "metadata": {},
   "outputs": [],
   "source": [
    "x= df.col1\n",
    "y= df.col2"
   ]
  },
  {
   "cell_type": "code",
   "execution_count": 9,
   "id": "intermediate-million",
   "metadata": {},
   "outputs": [],
   "source": [
    "df[\"dx\"] = x.std()\n",
    "df[\"dy\"] = y.std()"
   ]
  },
  {
   "cell_type": "code",
   "execution_count": 10,
   "id": "later-hours",
   "metadata": {},
   "outputs": [
    {
     "data": {
      "image/png": "[encoded data removed]",
      "text/plain": [
       "<Figure size 432x288 with 1 Axes>"
      ]
     },
     "metadata": {
      "needs_background": "light"
     },
     "output_type": "display_data"
    }
   ],
   "source": [
    "a_bins = [1, 2, 3.,  4.,  5.,6,7,8,9,10,11,12,13]\n",
    "mean, std_x, std_y, x_pos = calculate_weighted_average_std(df, a_bins)\n"
   ]
  },
  {
   "cell_type": "code",
   "execution_count": 11,
   "id": "korean-extra",
   "metadata": {},
   "outputs": [],
   "source": [
    "slope, error = linear_regression(x, y, df.dx, df.dy)"
   ]
  },
  {
   "cell_type": "code",
   "execution_count": 12,
   "id": "nonprofit-origin",
   "metadata": {},
   "outputs": [
    {
     "data": {
      "image/png": "[encoded data removed]",
      "text/plain": [
       "<Figure size 800x800 with 4 Axes>"
      ]
     },
     "metadata": {
      "needs_background": "light"
     },
     "output_type": "display_data"
    }
   ],
   "source": [
    "plot_data(x, y, mean, std_x, std_y, a_bins, slope, error, x_pos)"
   ]
  },
  {
   "cell_type": "code",
   "execution_count": null,
   "id": "younger-cathedral",
   "metadata": {},
   "outputs": [],
   "source": []
  }
 ],
 "metadata": {
  "kernelspec": {
   "display_name": "Python3.6Test",
   "language": "python",
   "name": "python3.6test"
  },
  "language_info": {
   "codemirror_mode": {
    "name": "ipython",
    "version": 3
   },
   "file_extension": ".py",
   "mimetype": "text/x-python",
   "name": "python",
   "nbconvert_exporter": "python",
   "pygments_lexer": "ipython3",
   "version": "3.6.10"
  }
 },
 "nbformat": 4,
 "nbformat_minor": 5
}
