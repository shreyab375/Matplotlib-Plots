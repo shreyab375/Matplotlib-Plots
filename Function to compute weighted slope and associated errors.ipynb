{
 "cells": [
  {
   "cell_type": "markdown",
   "id": "growing-priority",
   "metadata": {},
   "source": [
    "This computes the weighted slope by combining OLS(x,y), the reciprocal of OLS(y,x), and TLS(x,y), along with their respective weighted errors."
   ]
  },
  {
   "cell_type": "code",
   "execution_count": 1,
   "id": "armed-exposure",
   "metadata": {},
   "outputs": [],
   "source": [
    "import numpy as np\n",
    "import math\n",
    "import pandas as pd\n",
    "from scipy.odr import Model, RealData, ODR\n",
    "from scipy.optimize import curve_fit\n",
    "from scipy import stats\n",
    "\n"
   ]
  },
  {
   "cell_type": "code",
   "execution_count": 2,
   "id": "average-beads",
   "metadata": {},
   "outputs": [],
   "source": [
    "def linear_regression(x, y, dx, dy):\n",
    "    # TLS method\n",
    "    linear_tls = Model(lambda B, a: B[0]*a)\n",
    "    data_tls = RealData(x, y, sx=dx, sy=dy)\n",
    "    odr_tls = ODR(data_tls, linear_tls, beta0=[1.0])\n",
    "    output_tls = odr_tls.run()\n",
    "    slope_tls = output_tls.beta\n",
    "    err_tls = output_tls.sd_beta\n",
    "\n",
    "    # OLS method\n",
    "    degrees_x = [1]  # list of degrees of x to use\n",
    "    matrix_x = np.stack([x**d for d in degrees_x], axis=-1)\n",
    "    slope_ols_x, _, _, _ = np.linalg.lstsq(matrix_x, y, rcond=None)\n",
    "    n_x = len(y)\n",
    "    k_x = len(slope_ols_x)\n",
    "    sigma2_x = np.sum((y - np.dot(matrix_x, slope_ols_x))**2) / (n_x - k_x)  # RMSE\n",
    "    a_x = matrix_x.T\n",
    "    C_x = sigma2_x * np.linalg.inv(np.dot(a_x, matrix_x))  # covariance matrix\n",
    "    err_ols_x = np.sqrt(np.diag(C_x))  # standard error\n",
    "\n",
    "    degrees_y = [1]  # list of degrees of y to use\n",
    "    matrix_y = np.stack([y**d for d in degrees_y], axis=-1)\n",
    "    slope_ols_y, _, _, _ = np.linalg.lstsq(matrix_y, x, rcond=None)\n",
    "    n_y = len(x)\n",
    "    k_y = len(slope_ols_y)\n",
    "    sigma2_y = np.sum((x - np.dot(matrix_y, slope_ols_y))**2) / (n_y - k_y)  # RMSE\n",
    "    a_y = matrix_y.T\n",
    "    C_y = sigma2_y * np.linalg.inv(np.dot(a_y, matrix_y))  # covariance matrix\n",
    "    err_ols_y = np.sqrt(np.diag(C_y))  # standard error\n",
    "\n",
    "    dn = 1 / (err_tls**2) + 1 / (err_ols_x**2) + 1 / (err_ols_y**2) #denominator\n",
    "    slope = (slope_tls / err_tls**2 + slope_ols_x / err_ols_x**2 + 1 / slope_ols_y / err_ols_y**2) / dn\n",
    "    error = math.sqrt((abs(slope_tls - slope) / err_tls**2 + abs(slope_ols_x - slope) / err_ols_x**2 + abs(1 / slope_ols_y - slope) / err_ols_y**2) / dn)\n",
    "\n",
    "    return slope, error\n",
    "\n",
    "# Example usage:\n",
    "# slope, d_op = linear_regression(x, y, dx, dy)\n",
    "# print(f\"Slope: {slope}, d_op: {d_op}\")\n"
   ]
  },
  {
   "cell_type": "code",
   "execution_count": 3,
   "id": "naval-refund",
   "metadata": {},
   "outputs": [],
   "source": [
    "df = pd.read_csv(r'C:\\Users\\ShreyaB\\Documents\\Mitteilungen\\data\\weighted_average_example.csv')"
   ]
  },
  {
   "cell_type": "code",
   "execution_count": 4,
   "id": "french-pixel",
   "metadata": {},
   "outputs": [
    {
     "data": {
      "text/html": [
       "<div>\n",
       "<style scoped>\n",
       "    .dataframe tbody tr th:only-of-type {\n",
       "        vertical-align: middle;\n",
       "    }\n",
       "\n",
       "    .dataframe tbody tr th {\n",
       "        vertical-align: top;\n",
       "    }\n",
       "\n",
       "    .dataframe thead th {\n",
       "        text-align: right;\n",
       "    }\n",
       "</style>\n",
       "<table border=\"1\" class=\"dataframe\">\n",
       "  <thead>\n",
       "    <tr style=\"text-align: right;\">\n",
       "      <th></th>\n",
       "      <th>Date</th>\n",
       "      <th>col1</th>\n",
       "      <th>col2</th>\n",
       "    </tr>\n",
       "  </thead>\n",
       "  <tbody>\n",
       "    <tr>\n",
       "      <th>0</th>\n",
       "      <td>1854-02-04</td>\n",
       "      <td>3</td>\n",
       "      <td>3</td>\n",
       "    </tr>\n",
       "    <tr>\n",
       "      <th>1</th>\n",
       "      <td>1854-03-17</td>\n",
       "      <td>2</td>\n",
       "      <td>2</td>\n",
       "    </tr>\n",
       "    <tr>\n",
       "      <th>2</th>\n",
       "      <td>1854-09-12</td>\n",
       "      <td>3</td>\n",
       "      <td>3</td>\n",
       "    </tr>\n",
       "    <tr>\n",
       "      <th>3</th>\n",
       "      <td>1855-10-20</td>\n",
       "      <td>2</td>\n",
       "      <td>2</td>\n",
       "    </tr>\n",
       "    <tr>\n",
       "      <th>4</th>\n",
       "      <td>1857-01-14</td>\n",
       "      <td>3</td>\n",
       "      <td>3</td>\n",
       "    </tr>\n",
       "  </tbody>\n",
       "</table>\n",
       "</div>"
      ],
      "text/plain": [
       "         Date  col1  col2\n",
       "0  1854-02-04     3     3\n",
       "1  1854-03-17     2     2\n",
       "2  1854-09-12     3     3\n",
       "3  1855-10-20     2     2\n",
       "4  1857-01-14     3     3"
      ]
     },
     "execution_count": 4,
     "metadata": {},
     "output_type": "execute_result"
    }
   ],
   "source": [
    "df.head()"
   ]
  },
  {
   "cell_type": "code",
   "execution_count": 5,
   "id": "turned-sarah",
   "metadata": {},
   "outputs": [],
   "source": [
    "x= df.col1\n",
    "y= df.col2"
   ]
  },
  {
   "cell_type": "code",
   "execution_count": 6,
   "id": "extraordinary-marijuana",
   "metadata": {},
   "outputs": [],
   "source": [
    "df[\"dx\"] = x.std()\n",
    "df[\"dy\"] = y.std()"
   ]
  },
  {
   "cell_type": "code",
   "execution_count": 7,
   "id": "grand-google",
   "metadata": {},
   "outputs": [],
   "source": [
    "slope, error = linear_regression(x, y, df.dx, df.dy)"
   ]
  },
  {
   "cell_type": "code",
   "execution_count": 8,
   "id": "unlimited-implementation",
   "metadata": {},
   "outputs": [
    {
     "data": {
      "text/plain": [
       "(array([0.98807214]), 0.03177069306498258)"
      ]
     },
     "execution_count": 8,
     "metadata": {},
     "output_type": "execute_result"
    }
   ],
   "source": [
    "slope, error"
   ]
  },
  {
   "cell_type": "code",
   "execution_count": null,
   "id": "sunset-drawing",
   "metadata": {},
   "outputs": [],
   "source": []
  }
 ],
 "metadata": {
  "kernelspec": {
   "display_name": "Python3.6Test",
   "language": "python",
   "name": "python3.6test"
  },
  "language_info": {
   "codemirror_mode": {
    "name": "ipython",
    "version": 3
   },
   "file_extension": ".py",
   "mimetype": "text/x-python",
   "name": "python",
   "nbconvert_exporter": "python",
   "pygments_lexer": "ipython3",
   "version": "3.6.10"
  }
 },
 "nbformat": 4,
 "nbformat_minor": 5
}
